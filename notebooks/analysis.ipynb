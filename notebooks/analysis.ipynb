{
 "cells": [
  {
   "cell_type": "code",
   "execution_count": 6,
   "id": "e49f9d1b",
   "metadata": {},
   "outputs": [],
   "source": [
    "import os\n",
    "from dotenv import load_dotenv\n",
    "import pandas as pd\n",
    "from sqlalchemy import create_engine"
   ]
  },
  {
   "cell_type": "code",
   "execution_count": 7,
   "id": "491bbfd3",
   "metadata": {},
   "outputs": [
    {
     "data": {
      "text/plain": [
       "False"
      ]
     },
     "execution_count": 7,
     "metadata": {},
     "output_type": "execute_result"
    }
   ],
   "source": [
    "# Load .env file\n",
    "load_dotenv(dotenv_path=\".env\")  # Adjust path if .env is not in the same directory"
   ]
  },
  {
   "cell_type": "code",
   "execution_count": 16,
   "id": "5f989357",
   "metadata": {},
   "outputs": [],
   "source": [
    "# Retrieve environment variables\n",
    "db_user = os.getenv(\"POSTGRES_USER\")\n",
    "db_password = os.getenv(\"POSTGRES_PASSWORD\")\n",
    "db_host = \"localhost\"\n",
    "db_port = os.getenv(\"HOST_PORT\")\n",
    "db_name = \"airflow\"\n",
    "\n",
    "\n",
    "\n"
   ]
  },
  {
   "cell_type": "code",
   "execution_count": 17,
   "id": "1c0ff055",
   "metadata": {},
   "outputs": [],
   "source": [
    "# Create SQLAlchemy engine\n",
    "connection_string = f\"postgresql+psycopg2://{db_user}:{db_password}@{db_host}:{db_port}/{db_name}\"\n",
    "engine = create_engine(connection_string)\n"
   ]
  },
  {
   "cell_type": "code",
   "execution_count": 18,
   "id": "c40b9985",
   "metadata": {},
   "outputs": [
    {
     "data": {
      "text/html": [
       "<div>\n",
       "<style scoped>\n",
       "    .dataframe tbody tr th:only-of-type {\n",
       "        vertical-align: middle;\n",
       "    }\n",
       "\n",
       "    .dataframe tbody tr th {\n",
       "        vertical-align: top;\n",
       "    }\n",
       "\n",
       "    .dataframe thead th {\n",
       "        text-align: right;\n",
       "    }\n",
       "</style>\n",
       "<table border=\"1\" class=\"dataframe\">\n",
       "  <thead>\n",
       "    <tr style=\"text-align: right;\">\n",
       "      <th></th>\n",
       "      <th>date</th>\n",
       "      <th>price</th>\n",
       "      <th>series_description</th>\n",
       "      <th>product_name</th>\n",
       "      <th>area_name</th>\n",
       "      <th>units</th>\n",
       "    </tr>\n",
       "  </thead>\n",
       "  <tbody>\n",
       "    <tr>\n",
       "      <th>0</th>\n",
       "      <td>2025-05-12</td>\n",
       "      <td>63.32</td>\n",
       "      <td>Cushing, OK WTI Spot Price FOB (Dollars per Ba...</td>\n",
       "      <td>WTI Crude Oil</td>\n",
       "      <td>NA</td>\n",
       "      <td>$/BBL</td>\n",
       "    </tr>\n",
       "    <tr>\n",
       "      <th>1</th>\n",
       "      <td>2025-05-09</td>\n",
       "      <td>62.37</td>\n",
       "      <td>Cushing, OK WTI Spot Price FOB (Dollars per Ba...</td>\n",
       "      <td>WTI Crude Oil</td>\n",
       "      <td>NA</td>\n",
       "      <td>$/BBL</td>\n",
       "    </tr>\n",
       "    <tr>\n",
       "      <th>2</th>\n",
       "      <td>2025-05-08</td>\n",
       "      <td>61.25</td>\n",
       "      <td>Cushing, OK WTI Spot Price FOB (Dollars per Ba...</td>\n",
       "      <td>WTI Crude Oil</td>\n",
       "      <td>NA</td>\n",
       "      <td>$/BBL</td>\n",
       "    </tr>\n",
       "    <tr>\n",
       "      <th>3</th>\n",
       "      <td>2025-05-07</td>\n",
       "      <td>59.42</td>\n",
       "      <td>Cushing, OK WTI Spot Price FOB (Dollars per Ba...</td>\n",
       "      <td>WTI Crude Oil</td>\n",
       "      <td>NA</td>\n",
       "      <td>$/BBL</td>\n",
       "    </tr>\n",
       "    <tr>\n",
       "      <th>4</th>\n",
       "      <td>2025-05-06</td>\n",
       "      <td>60.42</td>\n",
       "      <td>Cushing, OK WTI Spot Price FOB (Dollars per Ba...</td>\n",
       "      <td>WTI Crude Oil</td>\n",
       "      <td>NA</td>\n",
       "      <td>$/BBL</td>\n",
       "    </tr>\n",
       "  </tbody>\n",
       "</table>\n",
       "</div>"
      ],
      "text/plain": [
       "         date  price                                 series_description  \\\n",
       "0  2025-05-12  63.32  Cushing, OK WTI Spot Price FOB (Dollars per Ba...   \n",
       "1  2025-05-09  62.37  Cushing, OK WTI Spot Price FOB (Dollars per Ba...   \n",
       "2  2025-05-08  61.25  Cushing, OK WTI Spot Price FOB (Dollars per Ba...   \n",
       "3  2025-05-07  59.42  Cushing, OK WTI Spot Price FOB (Dollars per Ba...   \n",
       "4  2025-05-06  60.42  Cushing, OK WTI Spot Price FOB (Dollars per Ba...   \n",
       "\n",
       "    product_name area_name  units  \n",
       "0  WTI Crude Oil        NA  $/BBL  \n",
       "1  WTI Crude Oil        NA  $/BBL  \n",
       "2  WTI Crude Oil        NA  $/BBL  \n",
       "3  WTI Crude Oil        NA  $/BBL  \n",
       "4  WTI Crude Oil        NA  $/BBL  "
      ]
     },
     "execution_count": 18,
     "metadata": {},
     "output_type": "execute_result"
    }
   ],
   "source": [
    "# Query example\n",
    "query = \"SELECT * FROM eia_processed_data LIMIT 10\"\n",
    "df = pd.read_sql(query, engine)\n",
    "\n",
    "# Display data\n",
    "df.head()"
   ]
  }
 ],
 "metadata": {
  "kernelspec": {
   "display_name": "Python 3",
   "language": "python",
   "name": "python3"
  },
  "language_info": {
   "codemirror_mode": {
    "name": "ipython",
    "version": 3
   },
   "file_extension": ".py",
   "mimetype": "text/x-python",
   "name": "python",
   "nbconvert_exporter": "python",
   "pygments_lexer": "ipython3",
   "version": "3.13.2"
  }
 },
 "nbformat": 4,
 "nbformat_minor": 5
}
